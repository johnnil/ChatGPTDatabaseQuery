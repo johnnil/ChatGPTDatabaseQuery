{
 "cells": [
  {
   "cell_type": "code",
   "execution_count": 1,
   "metadata": {},
   "outputs": [],
   "source": [
    "import os\n",
    "import openai"
   ]
  },
  {
   "cell_type": "code",
   "execution_count": 9,
   "metadata": {},
   "outputs": [],
   "source": [
    "openai.api_key = os.getenv(\"OPENAI_API_KEY\")\n",
    "# openai.Model.list()\n",
    "model = 'gpt-3.5-turbo-0301'"
   ]
  },
  {
   "cell_type": "code",
   "execution_count": 69,
   "metadata": {},
   "outputs": [],
   "source": [
    "synopsis = '''\n",
    "Neophyte director Marty DiBergi (Rob Reiner) presents this \"rockumentary\" showcasing the North American tour of aging rockers Spïnal Tap. Band members David St. Hubbins (Michael McKean), Nigel Tufnel (Christopher Guest), and Derick Smalls (Harry Shearer) form the core of the group, with a keyboardist, Mick Shrimpton (RJ Parnell) and various drummers dying over the years in freak accidents or through spontaneous human combustion. The band is set to promote their new record, \"Smell the Glove,\" featuring a degrading photograph of a woman in bondage smelling a glove.\n",
    "\n",
    "Their first gig is a huge success selling out New York City's Madison Square Garden. Before the tour begins their promoter holds a huge party for the band as they've successfully completed their latest record \"Smell The Glove\". The record company CEO toasts Spinal Tap's success by \"Tapping Into The Millennium\", which coincidentally is the name of their tour.\n",
    "\n",
    "Next they're being interviewed by Marty DiBergi. We learn the history of Spinal Tap from the beginning of the band's origins through the present day. It seems that they've gone through a number of lineup changes and drummers - one spontaneously combusted while another choked on vomit, which was not his own.\n",
    "\n",
    "Spinal Tap is being transported to their next gig, and to pass the time they're reading the autobiography of Rat Pack member Sammy Davis Jr.. The limo driver has a one-sided conversation with them about Frank Sinatra's history. The next song being played is their smash hit single \"Big Bottom\", which features the three lead members all playing bass guitars. We also learn how Spinal Tap's back catalog was received by critics. Most of the albums received rather mixed reviews, but one album called \"Shark Sandwich\" received just a two word review - \"Shit sandwich\". Their religious rock album \"The Gospel According To Spinal Tap\" was also rather poorly received.\n",
    "\n",
    "Their next stop takes them to Atlanta for the Recording Industry Convention. There, they learn a couple of gigs were canceled, but nothing to be worried about. It appears that the record label marketing department was completely offended by the proposed cover as stores have said they flat out weren't going to sell the album, citing it as \"filth\". Spinal Tap's promoters get into a huge argument with the record label CEO Bobbi Fleckmann (Fran Drescher) who cites their album cover as \"sexist\".\n",
    "\n",
    "While backstage for their next gig in Chapel Hill, North Carolina, Nigel is complaining about the quality (or complete lack thereof) of the food being presented to them. He tells the manager that it's a complete catastrophe and that they wouldn't like being served that food either. The next song they play is \"Hell Hole\" which is rather well received by the theater crowd. During the song Nigel gets in a rather tense guitar solo and falls to the ground requiring roadies to pick him up. The next day Marti is going over Nigel's massive amounts of equipment that they transport from show to show. He then explains how their amplifiers don't end at 10, they go to 11 which is one louder. Their next gig in Charlotte proves to be another disaster when their gig is cancelled due to a \"lack of advertising funds\".\n",
    "\n",
    "The next interview with Marti we learn that Spinal Tap has a dwindling audience. At the start of last year's tour they were booked into 10,000 and 15,000 seat arenas. Now they're being booked into 4,000 and 6,000 seat arenas, a fact that their manager, Ian Faith (Tony Hendra) dismisses as a sign that the band's popularity is waning. They proceed to take out their frustrations by destroying their hotel room. As Nigel is on the phone to their promoter, they learn that a number of their gigs across the Midwest have been cancelled. But thankfully they're saved when Derek informs them that a song they recorded in the past called \"Listen To The Flower People\" was being played on the local radio. But their happiness is short lived when the announcer refers to them in the \"where are they now\" segment. Shortly before this blow to their collective ego, David is on the phone with his longtime girlfriend, Jeanine Pettibone (June Chadwick) who tells him she can come see him when they arrive in Milwaukee. Nigel is less than enthused; he views Jeanine as an interloper and a disruption to his relationship with David.\n",
    "\n",
    "Thankfully Spinal Tap has managed to secure a gig in Memphis. There, they pay tribute to Elvis Presley by making a stop at Graceland and singing \"Heartbreak Hotel\", though none of the band members can remember the words, nor sing in harmony. Spinal Tap's first single was released in 1968 and they've been a band ever since, and evolving with the times and trends, though the recent times have not been kind to them. We also learn of another drummer that died a mysterious death - this one spontaneously combusted on stage.\n",
    "\n",
    "At their next gig in Milwaukee, they play a sound check where they play another song from their very early days called \"Give Me Some Money\". Jeanine appears and while David is thrilled to see her, Nigel can barely hide his disappointment. Ian appears with a box of copies of \"Smell The Glove\" where they're stunned to learn that the studio has decided to go with their decision to release the album cover in all black instead of the proposed and very controversial cover. Their next song is called \"Rock And Roll Creation\" and Derek gets trapped in his prop pod during the entire song and the roadies desperately try to free him with no success.\n",
    "\n",
    "The next interview with DiBergi interviews Spinal Tap's drummer. There he asks whether or not the history of Spinal Tap drummers has him afraid of what might happen to him. He says it's no big deal. On the tour bus to their next gig the band throws a huge party.\n",
    "\n",
    "While in Chicago, they have a record signing, but no one shows, upsetting the band and the promoter (Paul Shaffer) blames himself. Spinal Tap manages to secure their next gig in Cleveland. Unfortunately as the crowd is demanding they play, they get lost repeatedly making their way to the stage in a cluttered and maze-like basement. The next gig in Albuquerque proves to be particularly embarrassing as the only gig they've managed to secure has them opening for a magician at a rich kid's birthday party. The rift in the band grows larger. While on a break between gigs, Jeanine presents the band with her own illustrations of new onstage costumes and makeup for the band. Nigel is again annoyed and tells everyone they can enhance their live performances with a prop for one of their greatest songs, Stonehenge. He draws a quick diagram of the scenery on a napkin, handing it to Ian who says he'll have it made.\n",
    "\n",
    "The next live show has the band performing Stonehenge with a spoken-word prelude by Nigel and the band wearing druid-like costumes. When the model of Stonehenge descends from the rafters, they're astonished to see that it's only 18 inches high instead of life-sized. In his napkin drawing, Nigel had mixed up feet with inches. Dwarf dancers in Celtic costumes dance around the prop, threatening to knock it over.\n",
    "\n",
    "Back at their hotel after the gig, the band gets into a fight with Ian, blaming him for all the recent live mishaps and lost gigs. Ian argues that he's overworked, buried in the logistics of the tour, the petty and petulant demands of the band themselves and often called upon to perform impossible tasks. David suddenly suggests that they replace Ian with someone who can manage the tour more effectively, namely Jeanine. Ian explodes and storms out.\n",
    "\n",
    "Their next gig takes them to San Diego and the Miramar Air Force Base where they're the entertainment for a weekend reception. The band goes on, playing one of their raunchier songs, Sex Farm. Unfortunately the crowd isn't interested and stop dancing and sit back down, many of them covering their ears. A frustrated Nigel finally walks off the stage, slamming his guitar down after his wireless box picks up and broadcasts one of the base's air traffic signals. While being interview by DiBergi, David tries to gloss over Nigel's departure by saying that bands go through many changes and that it won't affect the remainder of the tour. He also admits he'd be more upset if he \"weren't under such heavy sedation\" at that particular moment.\n",
    "\n",
    "The last date of the tour is in Stockton, California at a local county fair, where he band is billed under a puppet show. Backstage, the band is hastily trying to come up with a live set without Nigel. Many of the songs they play live are Nigel's and are cut out of the lineup. Derek says what they have left will constitute a show of no more than 10 minutes. He suggests they play an experimental song he's been developing for several years called \"Jazz Oddyssey\" a free-form instrumental at least 10 minutes long. Onstage, David introduces the band as a reborn unit, Spinal Tap Mach 2, with Jeanine playing tambourine. The audience show their immediate displeasure, many of them leaving or giving the band the thumbs down sign.\n",
    "\n",
    "A party is thrown in Los Angeles to mark the end of the U.S. tour. David and Derek talk about several side projects they've both had in mind that they feel they can explore now that Nigel is gone. One of the ideas is a musical, \"Saucy Jack\", based on the life of Jack the Ripper. They also believe they can wring a few more years out of the nearly-defunct Tap, even without Nigel.\n",
    "\n",
    "At another late gig, the band are ready to go onstage when Nigel suddenly appears. He tells them he bumped into Ian and found out that \"Sex Farm\" has become a big hit in Japan and that he'd be willing to come back for a tour. David rebuffs him but accepts a wish of good luck from Nigel before the go on, playing \"Tonight We're Gonna Rock You Tonight\". As he stands watching them at the side of the stage, David motions for Nigel to join them. Nigel runs up, grabs a guitar and begins to jam. The final scene has the band playing live to a huge Japanese audience, seemingly revitalized. Ian has also rejoined them, seemingly taking up his old position as manager, with Jeanine nearby. The band plays to thunderous applause.\n",
    "'''"
   ]
  },
  {
   "cell_type": "code",
   "execution_count": 75,
   "metadata": {},
   "outputs": [
    {
     "data": {
      "text/plain": [
       "'rockumentary, aging rockers, tour, band, music, drummer, record, album, gig, concert, backstage, tour bus, manager, popularity, Elvis Presley, costumes, mishaps, replacement, side projects, musical, Japan'"
      ]
     },
     "execution_count": 75,
     "metadata": {},
     "output_type": "execute_result"
    }
   ],
   "source": [
    "prompt = f\"I'm going to give you a synopsis for a movie. \\\n",
    "I would like you to respond to me with a list of the most \\\n",
    "useful keywords for recommending similar movies. Please use only keywords from outside the synopsis, too. Like you would see on IMDB. \\\n",
    "Synopsis: {synopsis}\"\n",
    "completion = openai.ChatCompletion.create(\n",
    "  model=model,\n",
    "  messages=[{\"role\": \"user\", \"content\": f\"{prompt}\"},\n",
    "  ],\n",
    "  max_tokens=50,\n",
    "  temperature=0\n",
    ")\n",
    "\n",
    "completion['choices'][0]['message']['content']"
   ]
  },
  {
   "cell_type": "code",
   "execution_count": 76,
   "metadata": {},
   "outputs": [],
   "source": [
    "for word in completion['choices'][0]['message']['content']:\n",
    "    if not word in synopsis:\n",
    "        print(word)"
   ]
  },
  {
   "cell_type": "code",
   "execution_count": 77,
   "metadata": {},
   "outputs": [
    {
     "name": "stdout",
     "output_type": "stream",
     "text": [
      "I'm going to give you a synopsis for a movie. I would like you to respond to me with a list of the most useful keywords for recommending similar movies. Please use only keywords from outside the synopsis, too. Like you would see on IMDB. Synopsis: \n",
      "Neophyte director Marty DiBergi (Rob Reiner) presents this \"rockumentary\" showcasing the North American tour of aging rockers Spïnal Tap. Band members David St. Hubbins (Michael McKean), Nigel Tufnel (Christopher Guest), and Derick Smalls (Harry Shearer) form the core of the group, with a keyboardist, Mick Shrimpton (RJ Parnell) and various drummers dying over the years in freak accidents or through spontaneous human combustion. The band is set to promote their new record, \"Smell the Glove,\" featuring a degrading photograph of a woman in bondage smelling a glove.\n",
      "\n",
      "Their first gig is a huge success selling out New York City's Madison Square Garden. Before the tour begins their promoter holds a huge party for the band as they've successfully completed their latest record \"Smell The Glove\". The record company CEO toasts Spinal Tap's success by \"Tapping Into The Millennium\", which coincidentally is the name of their tour.\n",
      "\n",
      "Next they're being interviewed by Marty DiBergi. We learn the history of Spinal Tap from the beginning of the band's origins through the present day. It seems that they've gone through a number of lineup changes and drummers - one spontaneously combusted while another choked on vomit, which was not his own.\n",
      "\n",
      "Spinal Tap is being transported to their next gig, and to pass the time they're reading the autobiography of Rat Pack member Sammy Davis Jr.. The limo driver has a one-sided conversation with them about Frank Sinatra's history. The next song being played is their smash hit single \"Big Bottom\", which features the three lead members all playing bass guitars. We also learn how Spinal Tap's back catalog was received by critics. Most of the albums received rather mixed reviews, but one album called \"Shark Sandwich\" received just a two word review - \"Shit sandwich\". Their religious rock album \"The Gospel According To Spinal Tap\" was also rather poorly received.\n",
      "\n",
      "Their next stop takes them to Atlanta for the Recording Industry Convention. There, they learn a couple of gigs were canceled, but nothing to be worried about. It appears that the record label marketing department was completely offended by the proposed cover as stores have said they flat out weren't going to sell the album, citing it as \"filth\". Spinal Tap's promoters get into a huge argument with the record label CEO Bobbi Fleckmann (Fran Drescher) who cites their album cover as \"sexist\".\n",
      "\n",
      "While backstage for their next gig in Chapel Hill, North Carolina, Nigel is complaining about the quality (or complete lack thereof) of the food being presented to them. He tells the manager that it's a complete catastrophe and that they wouldn't like being served that food either. The next song they play is \"Hell Hole\" which is rather well received by the theater crowd. During the song Nigel gets in a rather tense guitar solo and falls to the ground requiring roadies to pick him up. The next day Marti is going over Nigel's massive amounts of equipment that they transport from show to show. He then explains how their amplifiers don't end at 10, they go to 11 which is one louder. Their next gig in Charlotte proves to be another disaster when their gig is cancelled due to a \"lack of advertising funds\".\n",
      "\n",
      "The next interview with Marti we learn that Spinal Tap has a dwindling audience. At the start of last year's tour they were booked into 10,000 and 15,000 seat arenas. Now they're being booked into 4,000 and 6,000 seat arenas, a fact that their manager, Ian Faith (Tony Hendra) dismisses as a sign that the band's popularity is waning. They proceed to take out their frustrations by destroying their hotel room. As Nigel is on the phone to their promoter, they learn that a number of their gigs across the Midwest have been cancelled. But thankfully they're saved when Derek informs them that a song they recorded in the past called \"Listen To The Flower People\" was being played on the local radio. But their happiness is short lived when the announcer refers to them in the \"where are they now\" segment. Shortly before this blow to their collective ego, David is on the phone with his longtime girlfriend, Jeanine Pettibone (June Chadwick) who tells him she can come see him when they arrive in Milwaukee. Nigel is less than enthused; he views Jeanine as an interloper and a disruption to his relationship with David.\n",
      "\n",
      "Thankfully Spinal Tap has managed to secure a gig in Memphis. There, they pay tribute to Elvis Presley by making a stop at Graceland and singing \"Heartbreak Hotel\", though none of the band members can remember the words, nor sing in harmony. Spinal Tap's first single was released in 1968 and they've been a band ever since, and evolving with the times and trends, though the recent times have not been kind to them. We also learn of another drummer that died a mysterious death - this one spontaneously combusted on stage.\n",
      "\n",
      "At their next gig in Milwaukee, they play a sound check where they play another song from their very early days called \"Give Me Some Money\". Jeanine appears and while David is thrilled to see her, Nigel can barely hide his disappointment. Ian appears with a box of copies of \"Smell The Glove\" where they're stunned to learn that the studio has decided to go with their decision to release the album cover in all black instead of the proposed and very controversial cover. Their next song is called \"Rock And Roll Creation\" and Derek gets trapped in his prop pod during the entire song and the roadies desperately try to free him with no success.\n",
      "\n",
      "The next interview with DiBergi interviews Spinal Tap's drummer. There he asks whether or not the history of Spinal Tap drummers has him afraid of what might happen to him. He says it's no big deal. On the tour bus to their next gig the band throws a huge party.\n",
      "\n",
      "While in Chicago, they have a record signing, but no one shows, upsetting the band and the promoter (Paul Shaffer) blames himself. Spinal Tap manages to secure their next gig in Cleveland. Unfortunately as the crowd is demanding they play, they get lost repeatedly making their way to the stage in a cluttered and maze-like basement. The next gig in Albuquerque proves to be particularly embarrassing as the only gig they've managed to secure has them opening for a magician at a rich kid's birthday party. The rift in the band grows larger. While on a break between gigs, Jeanine presents the band with her own illustrations of new onstage costumes and makeup for the band. Nigel is again annoyed and tells everyone they can enhance their live performances with a prop for one of their greatest songs, Stonehenge. He draws a quick diagram of the scenery on a napkin, handing it to Ian who says he'll have it made.\n",
      "\n",
      "The next live show has the band performing Stonehenge with a spoken-word prelude by Nigel and the band wearing druid-like costumes. When the model of Stonehenge descends from the rafters, they're astonished to see that it's only 18 inches high instead of life-sized. In his napkin drawing, Nigel had mixed up feet with inches. Dwarf dancers in Celtic costumes dance around the prop, threatening to knock it over.\n",
      "\n",
      "Back at their hotel after the gig, the band gets into a fight with Ian, blaming him for all the recent live mishaps and lost gigs. Ian argues that he's overworked, buried in the logistics of the tour, the petty and petulant demands of the band themselves and often called upon to perform impossible tasks. David suddenly suggests that they replace Ian with someone who can manage the tour more effectively, namely Jeanine. Ian explodes and storms out.\n",
      "\n",
      "Their next gig takes them to San Diego and the Miramar Air Force Base where they're the entertainment for a weekend reception. The band goes on, playing one of their raunchier songs, Sex Farm. Unfortunately the crowd isn't interested and stop dancing and sit back down, many of them covering their ears. A frustrated Nigel finally walks off the stage, slamming his guitar down after his wireless box picks up and broadcasts one of the base's air traffic signals. While being interview by DiBergi, David tries to gloss over Nigel's departure by saying that bands go through many changes and that it won't affect the remainder of the tour. He also admits he'd be more upset if he \"weren't under such heavy sedation\" at that particular moment.\n",
      "\n",
      "The last date of the tour is in Stockton, California at a local county fair, where he band is billed under a puppet show. Backstage, the band is hastily trying to come up with a live set without Nigel. Many of the songs they play live are Nigel's and are cut out of the lineup. Derek says what they have left will constitute a show of no more than 10 minutes. He suggests they play an experimental song he's been developing for several years called \"Jazz Oddyssey\" a free-form instrumental at least 10 minutes long. Onstage, David introduces the band as a reborn unit, Spinal Tap Mach 2, with Jeanine playing tambourine. The audience show their immediate displeasure, many of them leaving or giving the band the thumbs down sign.\n",
      "\n",
      "A party is thrown in Los Angeles to mark the end of the U.S. tour. David and Derek talk about several side projects they've both had in mind that they feel they can explore now that Nigel is gone. One of the ideas is a musical, \"Saucy Jack\", based on the life of Jack the Ripper. They also believe they can wring a few more years out of the nearly-defunct Tap, even without Nigel.\n",
      "\n",
      "At another late gig, the band are ready to go onstage when Nigel suddenly appears. He tells them he bumped into Ian and found out that \"Sex Farm\" has become a big hit in Japan and that he'd be willing to come back for a tour. David rebuffs him but accepts a wish of good luck from Nigel before the go on, playing \"Tonight We're Gonna Rock You Tonight\". As he stands watching them at the side of the stage, David motions for Nigel to join them. Nigel runs up, grabs a guitar and begins to jam. The final scene has the band playing live to a huge Japanese audience, seemingly revitalized. Ian has also rejoined them, seemingly taking up his old position as manager, with Jeanine nearby. The band plays to thunderous applause.\n",
      "\n"
     ]
    }
   ],
   "source": [
    "print(prompt)"
   ]
  },
  {
   "cell_type": "code",
   "execution_count": 14,
   "metadata": {},
   "outputs": [
    {
     "data": {
      "text/plain": [
       "<OpenAIObject chat.completion id=chatcmpl-7GmrWF4GRI6r6Brv9vSOpOpxp8C9X at 0x1ff07ed4c50> JSON: {\n",
       "  \"choices\": [\n",
       "    {\n",
       "      \"finish_reason\": \"length\",\n",
       "      \"index\": 0,\n",
       "      \"message\": {\n",
       "        \"content\": \"Hello! How can I assist you\",\n",
       "        \"role\": \"assistant\"\n",
       "      }\n",
       "    }\n",
       "  ],\n",
       "  \"created\": 1684235430,\n",
       "  \"id\": \"chatcmpl-7GmrWF4GRI6r6Brv9vSOpOpxp8C9X\",\n",
       "  \"model\": \"gpt-3.5-turbo-0301\",\n",
       "  \"object\": \"chat.completion\",\n",
       "  \"usage\": {\n",
       "    \"completion_tokens\": 7,\n",
       "    \"prompt_tokens\": 11,\n",
       "    \"total_tokens\": 18\n",
       "  }\n",
       "}"
      ]
     },
     "execution_count": 14,
     "metadata": {},
     "output_type": "execute_result"
    }
   ],
   "source": [
    "completion"
   ]
  }
 ],
 "metadata": {
  "kernelspec": {
   "display_name": "Python 3",
   "language": "python",
   "name": "python3"
  },
  "language_info": {
   "codemirror_mode": {
    "name": "ipython",
    "version": 3
   },
   "file_extension": ".py",
   "mimetype": "text/x-python",
   "name": "python",
   "nbconvert_exporter": "python",
   "pygments_lexer": "ipython3",
   "version": "3.11.2"
  },
  "orig_nbformat": 4
 },
 "nbformat": 4,
 "nbformat_minor": 2
}
