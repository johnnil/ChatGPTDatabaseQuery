{
 "cells": [
  {
   "cell_type": "code",
   "execution_count": 22,
   "metadata": {},
   "outputs": [],
   "source": [
    "from llama_index import GPTVectorStoreIndex, SimpleDirectoryReader, ServiceContext, StorageContext, load_index_from_storage\n",
    "from langchain.chat_models import ChatOpenAI\n",
    "from langchain.chains import ConversationChain\n",
    "from langchain.memory import ConversationBufferMemory\n",
    "import openai\n",
    "import os\n",
    "\n",
    "openai.api_key = os.getenv(\"OPENAI_API_KEY\")\n",
    "# print(openai.Model.list())\n",
    "model = 'gpt-3.5-turbo-0301'\n",
    "# model = \"gpt-4-0613\"\n",
    "temperature = 0.0\n",
    "service_context = ServiceContext.from_defaults(llm=ChatOpenAI(temperature=temperature, model=model))"
   ]
  },
  {
   "cell_type": "code",
   "execution_count": null,
   "metadata": {},
   "outputs": [],
   "source": [
    "# Loading from a directory\n",
    "gptdir = 'C:/Users/John/Documents/gpt_docs'\n",
    "documents = SimpleDirectoryReader(gptdir).load_data()"
   ]
  },
  {
   "cell_type": "code",
   "execution_count": 10,
   "metadata": {},
   "outputs": [],
   "source": [
    "# Construct a simple vector index\n",
    "index = GPTVectorStoreIndex.from_documents(documents, service_context=service_context)\n",
    "query_engine = index.as_query_engine() #TODO undersök parametern similarity_top_k. Vad är default?"
   ]
  },
  {
   "cell_type": "code",
   "execution_count": 23,
   "metadata": {},
   "outputs": [],
   "source": [
    "chat_engine = index.as_chat_engine()"
   ]
  },
  {
   "cell_type": "code",
   "execution_count": 24,
   "metadata": {},
   "outputs": [
    {
     "ename": "TypeError",
     "evalue": "CondenseQuestionChatEngine.chat() takes 2 positional arguments but 3 were given",
     "output_type": "error",
     "traceback": [
      "\u001b[1;31m---------------------------------------------------------------------------\u001b[0m",
      "\u001b[1;31mTypeError\u001b[0m                                 Traceback (most recent call last)",
      "Cell \u001b[1;32mIn[24], line 3\u001b[0m\n\u001b[0;32m      1\u001b[0m messages \u001b[39m=\u001b[39m []\n\u001b[0;32m      2\u001b[0m query \u001b[39m=\u001b[39m \u001b[39m\"\u001b[39m\u001b[39mHi, how are you?\u001b[39m\u001b[39m\"\u001b[39m\n\u001b[1;32m----> 3\u001b[0m response \u001b[39m=\u001b[39m chat_engine\u001b[39m.\u001b[39;49mchat(query, messages)\n\u001b[0;32m      4\u001b[0m messages\u001b[39m.\u001b[39mappend(ChatMessage(role\u001b[39m=\u001b[39m\u001b[39m\"\u001b[39m\u001b[39muser\u001b[39m\u001b[39m\"\u001b[39m, content\u001b[39m=\u001b[39mquery))\n",
      "\u001b[1;31mTypeError\u001b[0m: CondenseQuestionChatEngine.chat() takes 2 positional arguments but 3 were given"
     ]
    }
   ],
   "source": [
    "messages = []\n",
    "query = \"Hi, how are you?\"\n",
    "response = chat_engine.chat(query, messages)\n",
    "messages.append(ChatMessage(role=\"user\", content=query))"
   ]
  },
  {
   "cell_type": "code",
   "execution_count": 17,
   "metadata": {},
   "outputs": [],
   "source": [
    "# Save your index to a index.json file\n",
    "# index.storage_context.persist(f'index_{model}.json')\n",
    "\n",
    "# Load the index from your saved index.json file\n",
    "# storage_context = StorageContext.from_defaults(persist_dir=f'index_{model}.json')\n",
    "# index = load_index_from_storage(storage_context)"
   ]
  },
  {
   "cell_type": "code",
   "execution_count": null,
   "metadata": {},
   "outputs": [],
   "source": [
    "# Add chat memory\n",
    "conversation = ConversationChain()"
   ]
  },
  {
   "cell_type": "code",
   "execution_count": 16,
   "metadata": {},
   "outputs": [
    {
     "name": "stdout",
     "output_type": "stream",
     "text": [
      "Det som avgör om ett avtal ska klassificeras som operationell respektive finansiell leasing är avtalets ekonomiska innebörd och inte dess civilrättsliga form. En finansiell leasing innebär att äganderätten till den underliggande tillgången överförs till leasetagaren när leasingavtalet löpt ut eller om leasetagaren har möjlighet att köpa den underliggande tillgången till ett pris som förväntas understiga det verkliga värdet med ett så stort belopp att det vid avtalets tecknande framstår som rimligt säkert att möjligheten kommer att utnyttjas. En operationell leasing innebär att de ekonomiska fördelarna och riskerna som förknippas med ägandet av en underliggande tillgång i allt väsentligt inte överförs till leasetagaren. \n",
      "\n",
      "Källa: IFRS 16 Leasingavtal, punkt 63.\n"
     ]
    }
   ],
   "source": [
    "# Querying the index\n",
    "sourcing = \"Avsluta med ett direktcitat på formen källa=direktcitat\"\n",
    "response = query_engine.query(f\"Vad avgör om ett avtal ska klassificeras som operationell respektive finansiell leasing? Definiera de två begreppen finansiell leasing och operationell leasing. {sourcing}\")\n",
    "print(response)"
   ]
  },
  {
   "cell_type": "code",
   "execution_count": 18,
   "metadata": {},
   "outputs": [
    {
     "name": "stdout",
     "output_type": "stream",
     "text": [
      "The regulatory framework does not provide specific information about what is approved to be included as profit in the core primary capital.\n"
     ]
    }
   ],
   "source": [
    "response = query_engine.query(\"What does the regulatory framework say about what is approved to be included as profit in the core primary capital\")\n",
    "print(response)"
   ]
  },
  {
   "cell_type": "code",
   "execution_count": 19,
   "metadata": {},
   "outputs": [
    {
     "name": "stdout",
     "output_type": "stream",
     "text": [
      "I'm sorry, but the context information provided is not related to the book \"And Then There Were None\" by Agatha Christie. Therefore, I cannot provide a direct quote from Vera in that book.\n"
     ]
    }
   ],
   "source": [
    "# Querying the index\n",
    "response = query_engine.query(\"Give me a direct quote from Vera in \\\"And Then There Were None\\\"\")\n",
    "print(response)"
   ]
  },
  {
   "cell_type": "code",
   "execution_count": 20,
   "metadata": {},
   "outputs": [
    {
     "name": "stdout",
     "output_type": "stream",
     "text": [
      "There is no information provided in the context about Emily Brent in \"And Then There Were None\" being religious. Therefore, the book cannot be cited to answer this question.\n"
     ]
    }
   ],
   "source": [
    "response = query_engine.query(\"How do we know that Emily Brent in \\\"And Then There Were None\\\" was religous? Cite the book.\")\n",
    "print(response)"
   ]
  },
  {
   "cell_type": "code",
   "execution_count": 21,
   "metadata": {},
   "outputs": [
    {
     "name": "stdout",
     "output_type": "stream",
     "text": [
      "Sorry, I cannot answer this question as it is unrelated to the provided context information. The context information is about regulations for estimating loss characteristics in credit exposures.\n"
     ]
    }
   ],
   "source": [
    "response = query_engine.query(\"Is Emily Brent's piousness ever a source of distrust in Blore's eyes in \\\"And Then There Were None\\\"? Cite the book with 2 examples.\")\n",
    "print(response)"
   ]
  }
 ],
 "metadata": {
  "kernelspec": {
   "display_name": ".venv",
   "language": "python",
   "name": "python3"
  },
  "language_info": {
   "codemirror_mode": {
    "name": "ipython",
    "version": 3
   },
   "file_extension": ".py",
   "mimetype": "text/x-python",
   "name": "python",
   "nbconvert_exporter": "python",
   "pygments_lexer": "ipython3",
   "version": "3.11.2"
  },
  "orig_nbformat": 4
 },
 "nbformat": 4,
 "nbformat_minor": 2
}
