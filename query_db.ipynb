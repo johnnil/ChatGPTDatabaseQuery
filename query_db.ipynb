{
 "cells": [
  {
   "cell_type": "code",
   "execution_count": 1,
   "metadata": {},
   "outputs": [
    {
     "name": "stderr",
     "output_type": "stream",
     "text": [
      "c:\\Users\\John\\Code\\GPT\\.venv\\Lib\\site-packages\\tqdm\\auto.py:21: TqdmWarning: IProgress not found. Please update jupyter and ipywidgets. See https://ipywidgets.readthedocs.io/en/stable/user_install.html\n",
      "  from .autonotebook import tqdm as notebook_tqdm\n"
     ]
    }
   ],
   "source": [
    "from llama_index import GPTVectorStoreIndex, SimpleDirectoryReader, ServiceContext, StorageContext, load_index_from_storage\n",
    "from langchain.chat_models import ChatOpenAI\n",
    "from langchain.chains import ConversationChain\n",
    "from langchain.memory import ConversationBufferMemory\n",
    "import openai\n",
    "import os\n",
    "\n",
    "openai.api_key = os.getenv(\"OPENAI_API_KEY\")\n",
    "# print(openai.Model.list())\n",
    "model = 'gpt-3.5-turbo-0301'\n",
    "# model = \"gpt-4-0613\"\n",
    "temperature = 0.0\n",
    "service_context = ServiceContext.from_defaults(llm=ChatOpenAI(temperature=temperature, model=model))"
   ]
  },
  {
   "cell_type": "code",
   "execution_count": 4,
   "metadata": {},
   "outputs": [],
   "source": [
    "# Loading from a directory\n",
    "gptdir = 'C:/Users/John/Documents/gpt_docs_ex'\n",
    "documents = SimpleDirectoryReader(gptdir).load_data()"
   ]
  },
  {
   "cell_type": "code",
   "execution_count": 6,
   "metadata": {},
   "outputs": [],
   "source": [
    "# Construct a simple vector index\n",
    "index = GPTVectorStoreIndex.from_documents(documents, service_context=service_context, similarity_top_k=5)\n",
    "query_engine = index.as_query_engine()"
   ]
  },
  {
   "cell_type": "code",
   "execution_count": 7,
   "metadata": {},
   "outputs": [],
   "source": [
    "chat_engine = index.as_chat_engine()"
   ]
  },
  {
   "cell_type": "code",
   "execution_count": 17,
   "metadata": {},
   "outputs": [],
   "source": [
    "# Save your index to a index.json file\n",
    "# index.storage_context.persist(f'index_{model}.json')\n",
    "\n",
    "# Load the index from your saved index.json file\n",
    "# storage_context = StorageContext.from_defaults(persist_dir=f'index_{model}.json')\n",
    "# index = load_index_from_storage(storage_context)"
   ]
  },
  {
   "cell_type": "code",
   "execution_count": 11,
   "metadata": {},
   "outputs": [
    {
     "name": "stdout",
     "output_type": "stream",
     "text": [
      "In the given context information, it is mentioned that Emily Brent recites religious verses such as \"The Lord is mindful of his own\" and \"Thou shalt not be afraid for the terror by night; nor for the arrow that flieth by day.\" She also thinks about religious mania as a possible motive for the murders. Therefore, we can infer that Emily Brent is religious. The book states, \"She had never done anything to be ashamed of... And so, naturally, she wasn't going to die... 'The Lord is mindful of his own.' 'Thou shalt not be afraid for the terror by night; nor for the arrow that flieth by day...'\" (Chapter 11).\n"
     ]
    }
   ],
   "source": [
    "response = query_engine.query(\"How do we know that Emily Brent in \\\"And Then There Were None\\\" was religous? Cite the book.\")\n",
    "print(response)"
   ]
  },
  {
   "cell_type": "code",
   "execution_count": 12,
   "metadata": {},
   "outputs": [
    {
     "name": "stdout",
     "output_type": "stream",
     "text": [
      "Yes, Emily Brent's piousness is a source of distrust in Blore's eyes in \"And Then There Were None\". \n",
      "\n",
      "Example 1: Blore suspects Emily Brent of being the murderer and suggests that her motive could be \"religious mania\". He says, \"my opinion's this: we needn't look farther for the author of these deaths than the diningroom at this minute. I'd take my oath that woman's the one we're after!\" (Chapter 11)\n",
      "\n",
      "Example 2: Blore also points out that Emily Brent was the only one who didn't give an explanation after the gramophone record, and suggests that it's because \"she hadn't any to give\". (Chapter 11)\n"
     ]
    }
   ],
   "source": [
    "response = query_engine.query(\"Is Emily Brent's piousness ever a source of distrust in Blore's eyes in \\\"And Then There Were None\\\"? Cite the book with 2 examples.\")\n",
    "print(response)"
   ]
  },
  {
   "cell_type": "code",
   "execution_count": 13,
   "metadata": {},
   "outputs": [
    {
     "name": "stdout",
     "output_type": "stream",
     "text": [
      "The given context information is not related to \"The Legend of Sleepy Hollow\" by Washington Irving. Therefore, the question cannot be answered.\n"
     ]
    }
   ],
   "source": [
    "response = query_engine.query(\"What is the overarching theme of in \\\"The Legend of Sleepy Hollow\\\" by Washington Irving? Cite the book with 2 examples.\")\n",
    "print(response)"
   ]
  }
 ],
 "metadata": {
  "kernelspec": {
   "display_name": ".venv",
   "language": "python",
   "name": "python3"
  },
  "language_info": {
   "codemirror_mode": {
    "name": "ipython",
    "version": 3
   },
   "file_extension": ".py",
   "mimetype": "text/x-python",
   "name": "python",
   "nbconvert_exporter": "python",
   "pygments_lexer": "ipython3",
   "version": "3.11.2"
  },
  "orig_nbformat": 4
 },
 "nbformat": 4,
 "nbformat_minor": 2
}
