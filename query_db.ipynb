{
 "cells": [
  {
   "cell_type": "code",
   "execution_count": 55,
   "metadata": {},
   "outputs": [],
   "source": [
    "from llama_index import GPTVectorStoreIndex, SimpleDirectoryReader, ServiceContext, StorageContext, load_index_from_storage\n",
    "from langchain.chat_models import ChatOpenAI\n",
    "# from langchain.chains import ConversationChain\n",
    "# from langchain.memory import ConversationBufferMemory\n",
    "import openai\n",
    "import os\n",
    "\n",
    "openai.api_key = os.getenv(\"OPENAI_API_KEY\")\n",
    "# print(openai.Model.list())\n",
    "model = 'gpt-3.5-turbo-0301'\n",
    "# model = \"gpt-4-0613\"\n",
    "# model = \"gpt-4\"\n",
    "temperature = 0.0\n",
    "service_context = ServiceContext.from_defaults(llm=ChatOpenAI(temperature=temperature, model=model))"
   ]
  },
  {
   "cell_type": "code",
   "execution_count": 57,
   "metadata": {},
   "outputs": [],
   "source": [
    "# print(openai.Model.list())"
   ]
  },
  {
   "cell_type": "code",
   "execution_count": 33,
   "metadata": {},
   "outputs": [],
   "source": [
    "# Loading from a directory\n",
    "gptdir = 'C:/Users/John/Documents/gpt_docs_ex'\n",
    "documents = SimpleDirectoryReader(gptdir).load_data()"
   ]
  },
  {
   "cell_type": "code",
   "execution_count": 58,
   "metadata": {},
   "outputs": [],
   "source": [
    "# Construct a simple vector index\n",
    "index = GPTVectorStoreIndex.from_documents(documents, service_context=service_context, similarity_top_k=15)"
   ]
  },
  {
   "cell_type": "code",
   "execution_count": 59,
   "metadata": {},
   "outputs": [],
   "source": [
    "# Save your index to a index.json file\n",
    "# index.storage_context.persist(f'index_{model}.json')\n",
    "\n",
    "# Load the index from your saved index.json file\n",
    "# storage_context = StorageContext.from_defaults(persist_dir=f'index_{model}.json')\n",
    "# index = load_index_from_storage(storage_context)"
   ]
  },
  {
   "cell_type": "code",
   "execution_count": 141,
   "metadata": {},
   "outputs": [],
   "source": [
    "# chat_engine = index.as_chat_engine()\n",
    "query_engine = index.as_query_engine(similarity_top_k=5)"
   ]
  },
  {
   "cell_type": "code",
   "execution_count": 112,
   "metadata": {},
   "outputs": [
    {
     "name": "stdout",
     "output_type": "stream",
     "text": [
      "The Headless Horseman is described as a \"horseman of large dimensions, and mounted on a black horse of powerful frame.\" When Ichabod sees him on a rising ground, he is \"gigantic in height, and muffled in a cloak\" and is \"headless\" with his head \"carried before him on the pommel of his saddle.\"\n"
     ]
    }
   ],
   "source": [
    "response = query_engine.query(\"What does the Headless Horseman look like? Cite a description from the book.\")\n",
    "print(response)"
   ]
  },
  {
   "cell_type": "code",
   "execution_count": 110,
   "metadata": {},
   "outputs": [
    {
     "name": "stdout",
     "output_type": "stream",
     "text": [
      "The monster's appearance is described as \"hideous\" and \"such as even Dante could not have conceived.\" It is also mentioned that the monster was \"ugly\" when it was unfinished, but became even more terrifying when its muscles and joints were rendered capable of motion.\n"
     ]
    }
   ],
   "source": [
    "response = query_engine.query(\"What does the monster in \\\"Frankenstein\\\" look like? Cite a description from the book.\")\n",
    "print(response)"
   ]
  },
  {
   "cell_type": "code",
   "execution_count": 142,
   "metadata": {},
   "outputs": [
    {
     "name": "stdout",
     "output_type": "stream",
     "text": [
      "In \"Frankenstein,\" the monster is described as having \"yellow skin,\" \"watery eyes,\" and \"black lips.\" In \"The Legend of Sleepy Hollow,\" the Headless Horseman is described as being \"headless\" and carrying his head on the pommel of his saddle. There is no physical description of the Headless Horseman's appearance beyond this.\n"
     ]
    }
   ],
   "source": [
    "response = query_engine.query(\"How can you tell the Headless Horseman and the monster in \\\"Frankenstein\\\" apart based on looks? Cite a description from each book.\")\n",
    "print(response)"
   ]
  },
  {
   "cell_type": "code",
   "execution_count": 143,
   "metadata": {},
   "outputs": [
    {
     "name": "stdout",
     "output_type": "stream",
     "text": [
      "Number of used sources: 5\n",
      "Score: Text\n",
      "\n",
      "0.8089202865308962: ... creature was unprejudiced and had lived too short a time to have imbibed a horror of deformity. If, therefore, I could seize him and educate him as my companion and friend, I should not be so desolate in this peopled earth.  \"Urged by this impulse, I seized on the boy as he passed and drew him towards me.  As soon as he beheld my form, he placed his hands before his eyes and uttered a shrill scream; I drew his hand forcibly from his face and said, `Child, what is the meaning of this? I do not intend to hurt you; listen to me.'  \"He struggled violently.  `Let me go,' he cried; `monster! Ugly wretch!  You wish to eat me and tear me to pieces. You are an ogre.  Let me go, or I will tell my papa.'  \"`Boy, you will never see your father again; you must come with me.'  \"`Hideous monster!  Let me go.  My papa is a syndic--he is M. Frankenstein--he will punish you.  You dare not keep me.'  \"`Frankenstein! you belong then to my enemy--to him towards whom I have sworn eternal revenge; you shall be my first victim.'  \"The child still struggled and loaded me with epithets which carried despair to my heart; I grasped his throat to silence him, and in a moment he lay dead at my feet.  \"I gazed on my victim, and my heart swelled with exultation and hellish triumph; clapping my hands, I exclaimed, `I too can create desolation; my enemy is not invulnerable; this death will carry despair to him, and a thousand other miseries shall torment and destroy him.'  \"As I fixed my eyes on the child, I saw something glittering on his breast.  I took it; it was a portrait of a most lovely woman. In spite of my malignity, it softened and attracted me.  For a few moments I gazed with delight on her dark eyes, fringed by deep lashes, and her lovely lips; but presently my rage returned; I remembered that I was forever deprived of the delights that such beautiful creatures could bestow and that she whose resemblance I contemplated would, in regarding me, have changed that air of divine benignity to one expressive of disgust and affright.  \"Can you wonder that such thoughts transported me with rage? I only wonder that at that moment, instead of venting my sensations in exclamations and agony, I did not rush among mankind and perish in the attempt to destroy them.  \"While l was overcome by these feelings, I left the spot where I had committed the murder, and seeking a more secluded hiding-place, I entered a barn which had appeared to me to be empty.  A woman was sleeping on some straw; she was young, not indeed so beautiful as her whose portrait I held, but of an agreeable aspect and blooming in the loveliness of youth and health.  Here, I thought, is one of those whose joy-imparting smiles are bestowed on all but me. And then I bent over her and whispered, `Awake, fairest, thy lover is near--he who would give his life but to obtain one look of affection from thine eyes; my beloved, awake!'  \"The sleeper stirred; a thrill of terror ran through me. Should she indeed awake, and see me, and curse me, and denounce the murderer?  Thus would she assuredly act if her darkened eyes opened and she beheld me. The thought was madness; it stirred the fiend within me--not I, but she, shall suffer; the murder I have committed because I am forever robbed of all that she could give me, she shall atone. The crime had its source in her; be hers the punishment! Thanks to the ...\n",
      "\n",
      "0.7992875146535959: ... THE  LEGEND  OF  SLEEPY  HOLLOW 34  huge, misshapen, black, and towering. It stirred not, but seemed gathered  up in the gloom, like some gigantic monster ready to spring upon the  traveller.   The hair of the affrighted pedagogue rose upon his head with terror.  What was to be done? To turn and fly was now too late; and besides, what  chance was there of escaping ghost or goblin, if such it was, which could  ride upon the wings of the wind? Summoning up, therefore, a show of  courage, he demanded in stammering accents—“Who are you?” He  received no reply. He repeated his demand in a still more agitated voice.  Still there was no answer. Once more he cudgelled the sides of the  inflexible Gunpowder, and, shutting his eyes, broke forth with involuntary  fervor into a psalm-tune. Just then the shadowy object of alarm put itself in  motion, and, with a scramble and a bound, stood at once in the middle of  the road. Though the night was dark and dismal, yet the form of the  unknown might now in some degree be ascertained. He appeared to be a  horseman of large dimensions, and mounted on a black horse of powerful  frame. He made no offer of molestation or sociability, but kept aloof on  one side of the road, jogging along on the blind side of old Gunpowder,  who had now got over his fright and waywardness.   Ichabod, who had no relish for this strange midnight companion, and  bethought himself of the adventure of Brom Bones with the Galloping  Hessian, now quickened his steed, in hopes of leaving him behind. The  stranger, however, quickened his horse to an equal pace. Ichabod pulled  up, and fell into a walk, thinking to lag behind—the other did the same.  His heart began to sink within him; he endeavored to resume his psalm- tune, but his parched tongue clove to the roof of his mouth, and he could  not utter a stave. There was something in the moody and dogged silence of  this pertinacious companion, that was mysterious and appalling. It was  soon fearfully accounted for. On mounting a rising ground, which brought  the figure of his fellow-traveller in relief against the sky, gigantic in  height, and muffled in a cloak, Ichabod was horror-struck on perceiving  that he was headless!—but his horror was still more increased, on  observing that the head, which should have rested on his shoulders, was  carried before him on the pommel of his saddle: his terror rose to  desperation; he rained a shower of kicks and blows upon Gunpowder,  ...\n",
      "\n",
      "0.7972934426007556: ... THE  LEGEND  OF  SLEEPY  HOLLOW 30      The sequestered situation of this church seems always to have made it  a favorite haunt of troubled spirits. It stands on a knoll, surrounded by  locust-trees and lofty elms, from among which its decent whitewashed  walls shine modestly forth, like Christian purity beaming through the  shades of retirement. A gentle slope descends from it to a silver sheet of  water, bordered by high trees, between which, peeps may be caught at the  blue hills of the Hudson. To look upon its grass-grown yard, where the  sunbeams seem to sleep so quietly, one would think that there at least the  dead might rest in peace. On one side of the church extends a wide woody  dell, along which raves a large brook among broken rocks and trunks of  fallen trees. Over a deep black part of the stream, not far from the church,  was formerly thrown a wooden bridge; the road that led to it, and the  bridge itself, were thickly shaded by overhanging trees, which cast a  gloom about it, even in the daytime; but occasioned a fearful darkness at  night. This was one of the favorite haunts of the headless horseman; and  the place where he was most frequently encountered. The tale was told of  old Brouwer, a most heretical disbeliever in ghosts, how he met the  horseman returning from his foray into Sleepy Hollow, and was obliged to  get up behind him; how they galloped over bush and brake, over hill and  ...\n",
      "\n",
      "0.7951438575012266: ... curious and unhallowed wretch who would create such another as I have been.  I shall die.  I shall no longer feel the agonies which now consume me or be the prey of feelings unsatisfied, yet unquenched.  He is dead who called me into being; and when I shall be no more, the very remembrance of us both will speedily vanish.  I shall no longer see the sun or stars or feel the winds play on my cheeks.  Light, feeling, and sense will pass away; and in this condition must I find my happiness.  Some years ago, when the images which this world affords first opened upon me, when I felt the cheering warmth of summer and heard the rustling of the leaves and the warbling of the birds, and these were all to me, I should have wept to die; now it is my only consolation.  Polluted by crimes and torn by the bitterest remorse, where can I find rest but in death? \"Farewell!  I leave you, and in you the last of humankind whom these eyes will ever behold.  Farewell, Frankenstein!  If thou wert yet alive and yet cherished a desire of revenge against me, it would be better satiated in my life than in my destruction. But it was not so; thou didst seek my extinction, that I might not cause greater wretchedness; and if yet, in some mode unknown to me, thou hadst not ceased to think and feel, thou wouldst not desire against me a vengeance greater than that which I feel. Blasted as thou wert, my agony was still superior to thine, for the bitter sting of remorse will not cease to rankle in my wounds until death shall close them forever.  \"But soon,\" he cried with sad and solemn enthusiasm, \"I shall die, and what I now feel be no longer felt.  Soon these burning miseries will be extinct.  I shall ascend my funeral pile triumphantly and exult in the agony of the torturing flames. The light of that conflagration will fade away; my ashes will be swept into the sea by the winds.  My spirit will sleep in peace, or if it thinks, it will not surely think thus.  Farewell.\"  He sprang from the cabin window as he said this, upon the ice raft which lay close to the vessel.  He was soon borne away by the waves and lost in darkness and distance.  End of the Project Gutenberg Etext of Frankenstein      ...\n",
      "\n",
      "0.7948364742183478: ... WASHINGTON  IRVING 31  swamp, until they reached the bridge; when the horseman suddenly turned  into a skeleton, threw old Brouwer into the brook, and sprang away over  the tree-tops with a clap of thunder.   This story was immediately matched by a thrice marvellous adventure  of Brom Bones, who made light of the galloping Hessian as an arrant  jockey. He affirmed that, on returning one night from the neighboring  village of Sing Sing, he had been overtaken by this midnight trooper; that  he had offered to race with him for a bowl of punch, and should have won  it too, for Daredevil beat the goblin horse all hollow, but, just as they came  to the church-bridge, the Hessian bolted, and vanished in a flash of fire.   All these tales, told in that drowsy undertone with which men talk in  the dark, the countenances of the listeners only now and then receiving a  casual gleam from the glare of a pipe, sank deep in the mind of Ichabod.  He repaid them in kind with large extracts from his invaluable author,  Cotton Mather, and added many marvellous events that had taken place in  his native State of Connecticut, and fearful sights which he had seen in his  nightly walks about Sleepy Hollow.   The revel now gradually broke up. The old farmers gathered together  their families in their wagons, and were heard for some time rattling along  the hollow roads, and over the distant hills. Some of the damsels mounted  on pillions behind their favorite swains, and their light-hearted laughter,  mingling with the clatter of hoofs, echoed along the silent woodlands,  sounding fainter and fainter until they gradually died away—and the late  scene of noise and frolic was all silent and deserted. Ichabod only lingered  behind, according to the custom of country lovers, to have a tête-à-tête  with the heiress, fully convinced that he was now on the high road to  success. What passed at this interview I will not pretend to say, for in fact I  do not know. Something, however, I fear me, must have gone wrong, for  he certainly sallied forth, after no very great interval, with an air quite  desolate and chop-fallen.—Oh, these women! these women! Could that  girl have been playing off any of her coquettish tricks?—Was her  encouragement of the poor pedagogue all a mere sham to secure her  conquest of his rival?—Heaven only knows, not I!—Let it suffice to say,  Ichabod stole forth with the air of one who had been sacking a hen-roost,  rather than a fair lady’s heart. Without looking to the right or left to notice  ...\n",
      "\n"
     ]
    }
   ],
   "source": [
    "print(f'Number of used sources: {len(response.source_nodes)}\\nScore: Text\\n')\n",
    "for node in response.source_nodes:\n",
    "    formatted_text = node.node.text.replace(\"\\n\", \" \")\n",
    "    print(f'{node.score}: ... {formatted_text} ...\\n')"
   ]
  },
  {
   "cell_type": "code",
   "execution_count": 81,
   "metadata": {},
   "outputs": [
    {
     "data": {
      "text/plain": [
       "'> Source (Doc id: 9ecfe369-e6dd-4437-aa0f-c66b29030ad2): creature was unprejudiced\\nand had lived too short a time to have imbibed a horror of deformity.\\nI...\\n\\n> Source (Doc id: ad4b5b37-3f7b-4736-80f9-e19860b3b970): page_label: 34\\nfile_name: the_legend_of_sleepy_hollow_washingtong_irving.pdf\\n\\nTHE  LEGEND  OF  SL...'"
      ]
     },
     "metadata": {},
     "output_type": "display_data"
    }
   ],
   "source": [
    "display(response.get_formatted_sources())"
   ]
  },
  {
   "cell_type": "code",
   "execution_count": 71,
   "metadata": {},
   "outputs": [
    {
     "data": {
      "text/plain": [
       "['response',\n",
       " 'source_nodes',\n",
       " 'extra_info',\n",
       " '__module__',\n",
       " '__annotations__',\n",
       " '__doc__',\n",
       " '__str__',\n",
       " 'get_formatted_sources',\n",
       " '__dict__',\n",
       " '__weakref__',\n",
       " '__dataclass_params__',\n",
       " '__dataclass_fields__',\n",
       " '__init__',\n",
       " '__repr__',\n",
       " '__eq__',\n",
       " '__hash__',\n",
       " '__match_args__',\n",
       " '__new__',\n",
       " '__getattribute__',\n",
       " '__setattr__',\n",
       " '__delattr__',\n",
       " '__lt__',\n",
       " '__le__',\n",
       " '__ne__',\n",
       " '__gt__',\n",
       " '__ge__',\n",
       " '__reduce_ex__',\n",
       " '__reduce__',\n",
       " '__getstate__',\n",
       " '__subclasshook__',\n",
       " '__init_subclass__',\n",
       " '__format__',\n",
       " '__sizeof__',\n",
       " '__dir__',\n",
       " '__class__']"
      ]
     },
     "execution_count": 71,
     "metadata": {},
     "output_type": "execute_result"
    }
   ],
   "source": [
    "response.__dir__()"
   ]
  },
  {
   "cell_type": "code",
   "execution_count": 64,
   "metadata": {},
   "outputs": [
    {
     "ename": "NameError",
     "evalue": "name 'stop' is not defined",
     "output_type": "error",
     "traceback": [
      "\u001b[1;31m---------------------------------------------------------------------------\u001b[0m",
      "\u001b[1;31mNameError\u001b[0m                                 Traceback (most recent call last)",
      "\u001b[1;32mc:\\Users\\John\\Code\\GPT\\query_db.ipynb Cell 10\u001b[0m line \u001b[0;36m1\n\u001b[1;32m----> <a href='vscode-notebook-cell:/c%3A/Users/John/Code/GPT/query_db.ipynb#X25sZmlsZQ%3D%3D?line=0'>1</a>\u001b[0m stop\n",
      "\u001b[1;31mNameError\u001b[0m: name 'stop' is not defined"
     ]
    }
   ],
   "source": [
    "stop"
   ]
  },
  {
   "cell_type": "code",
   "execution_count": null,
   "metadata": {},
   "outputs": [
    {
     "name": "stdout",
     "output_type": "stream",
     "text": [
      "In the book \"And Then There Were None\", we know that Emily Brent is religious because she quotes the Bible, saying \"The Lord is mindful of his own.\" and \"Thou shalt not be afraid for the terror by night; nor for the arrow that flieth by day...\" These quotes suggest that she is familiar with religious texts and uses them for comfort and guidance.\n"
     ]
    }
   ],
   "source": [
    "response = query_engine.query(\"How do we know that Emily Brent in \\\"And Then There Were None\\\" was religous? Cite the book.\")\n",
    "print(response)"
   ]
  },
  {
   "cell_type": "code",
   "execution_count": null,
   "metadata": {},
   "outputs": [
    {
     "name": "stdout",
     "output_type": "stream",
     "text": [
      "The text does not explicitly mention Emily Brent reading the Bible in \"And Then There Were None\". However, her religious nature is implied through her thoughts and words. She quotes from the Bible, saying \"The Lord is mindful of his own.\" and \"Thou shalt not be afraid for the terror by night; nor for the arrow that flieth by day...\" This suggests that she is familiar with religious texts and likely reads the Bible. Additionally, Blore refers to her as having \"Religious mania\" and she is described as leading an \"upright life\", which further implies her religious nature.\n"
     ]
    }
   ],
   "source": [
    "response = query_engine.query(\"How do we know that Emily Brent in \\\"And Then There Were None\\\" was religous? Does she read the Bible? Cite the book.\")\n",
    "print(response)"
   ]
  },
  {
   "cell_type": "code",
   "execution_count": 121,
   "metadata": {},
   "outputs": [
    {
     "name": "stdout",
     "output_type": "stream",
     "text": [
      "Yes, Emily Brent's piousness is a source of distrust in Blore's eyes in \"And Then There Were None\". \n",
      "\n",
      "Example 1: Blore suspects Emily Brent of being the murderer and suggests that her motive could be \"religious mania\". He says, \"my opinion's this: we needn't look farther for the author of these deaths than the diningroom at this minute. I'd take my oath that woman's the one we're after!\" (Chapter 12)\n",
      "\n",
      "Example 2: Blore also comments on Emily Brent's \"hard\" heart and suggests that envy could be a motive for her actions. He says, \"Hearts as hard as flints, these righteous spinsters! Envy,\" (Chapter 12)\n"
     ]
    }
   ],
   "source": [
    "response = query_engine.query(\"Is Emily Brent's piousness ever a source of distrust in Blore's eyes in \\\"And Then There Were None\\\"? Cite the book with 2 examples.\")\n",
    "print(response)"
   ]
  },
  {
   "cell_type": "code",
   "execution_count": null,
   "metadata": {},
   "outputs": [
    {
     "name": "stdout",
     "output_type": "stream",
     "text": [
      "The context information does not provide enough details to determine the overarching theme of \"The Legend of Sleepy Hollow\" by Washington Irving.\n"
     ]
    }
   ],
   "source": [
    "response = query_engine.query(\"What is the overarching theme of \\\"The Legend of Sleepy Hollow\\\" by Washington Irving? Cite the book with 2 direct quotes.\")\n",
    "print(response)"
   ]
  },
  {
   "cell_type": "code",
   "execution_count": null,
   "metadata": {},
   "outputs": [
    {
     "name": "stdout",
     "output_type": "stream",
     "text": [
      "The context information provided does not contain any details or references about \"Dracula\".\n"
     ]
    }
   ],
   "source": [
    "response = query_engine.query(\"Who is \\\"Dracula\\\"? Cite a book with 2 examples.\")\n",
    "print(response)"
   ]
  }
 ],
 "metadata": {
  "kernelspec": {
   "display_name": ".venv",
   "language": "python",
   "name": "python3"
  },
  "language_info": {
   "codemirror_mode": {
    "name": "ipython",
    "version": 3
   },
   "file_extension": ".py",
   "mimetype": "text/x-python",
   "name": "python",
   "nbconvert_exporter": "python",
   "pygments_lexer": "ipython3",
   "version": "3.11.2"
  },
  "orig_nbformat": 4
 },
 "nbformat": 4,
 "nbformat_minor": 2
}
